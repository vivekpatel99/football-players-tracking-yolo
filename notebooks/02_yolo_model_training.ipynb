{
 "cells": [
  {
   "cell_type": "markdown",
   "id": "86df46e3",
   "metadata": {},
   "source": [
    "# Experiment with yolo models to obtain better football detection"
   ]
  },
  {
   "cell_type": "markdown",
   "id": "0640e979",
   "metadata": {},
   "source": [
    "## Imports"
   ]
  },
  {
   "cell_type": "code",
   "execution_count": null,
   "id": "59ea1ac4",
   "metadata": {},
   "outputs": [],
   "source": [
    "import os\n",
    "\n",
    "import pyrootutils\n",
    "\n",
    "root = pyrootutils.setup_root(\n",
    "    search_from=os.path.dirname(os.getcwd()),\n",
    "    indicator=[\".git\", \"pyproject.toml\"],\n",
    "    pythonpath=True,\n",
    "    dotenv=True,\n",
    ")\n",
    "\n",
    "if os.getenv(\"DATA_ROOT\") is None:\n",
    "    os.environ[\"DATA_ROOT\"] = f\"{root}\""
   ]
  },
  {
   "cell_type": "code",
   "execution_count": null,
   "id": "66576603",
   "metadata": {},
   "outputs": [],
   "source": [
    "from pathlib import Path\n",
    "\n",
    "import cv2\n",
    "import hydra\n",
    "import supervision as sv"
   ]
  },
  {
   "cell_type": "code",
   "execution_count": null,
   "id": "f65e97b9",
   "metadata": {},
   "outputs": [],
   "source": [
    "import torch\n",
    "from hydra import compose, initialize\n",
    "\n",
    "# Setup device-agnostic code\n",
    "if torch.cuda.is_available():\n",
    "    DEVICE = \"cuda\"  # NVIDIA GPU\n",
    "    print(\"GPU Found!!\")\n",
    "else:\n",
    "    raise Exception(\"No GPU Found!!\")"
   ]
  },
  {
   "cell_type": "markdown",
   "id": "53b1dbc0",
   "metadata": {},
   "source": [
    "## Paths setup"
   ]
  },
  {
   "cell_type": "code",
   "execution_count": null,
   "id": "fcd7562c",
   "metadata": {},
   "outputs": [],
   "source": [
    "from omegaconf import DictConfig\n",
    "\n",
    "with initialize(config_path=\"../configs\", job_name=\"EDA\", version_base=None):\n",
    "    cfg: DictConfig = compose(config_name=\"train.yaml\")\n",
    "    # print(OmegaConf.to_yaml(cfg))\n",
    "    print(cfg.paths)"
   ]
  },
  {
   "cell_type": "code",
   "execution_count": null,
   "id": "1b590f8b",
   "metadata": {},
   "outputs": [],
   "source": [
    "cfg.paths.pretrained_model_dir"
   ]
  },
  {
   "cell_type": "code",
   "execution_count": null,
   "id": "8c24d212",
   "metadata": {},
   "outputs": [],
   "source": [
    "# auto reload libs\n",
    "%load_ext autoreload\n",
    "%autoreload 2"
   ]
  },
  {
   "cell_type": "markdown",
   "id": "f3fcc15e",
   "metadata": {},
   "source": [
    "## Download Datasets"
   ]
  },
  {
   "cell_type": "code",
   "execution_count": null,
   "id": "9c236425",
   "metadata": {},
   "outputs": [],
   "source": [
    "ROOT_DIR = Path(cfg.paths.root_dir)\n",
    "ROOT_DATA_DIR = Path(cfg.paths.root_data_dir)\n",
    "DATA_DIR = ROOT_DATA_DIR / cfg.datasets.datasets_dir\n",
    "DATASET = cfg.datasets.roboflow\n",
    "DATA_DIR.mkdir(parents=True, exist_ok=True)\n",
    "DATASET_DIR = DATA_DIR / cfg.datasets.dataset_name\n",
    "CLASS_NAMES = cfg.datasets.names\n",
    "PRETRAINED_MODEEL_DIR = Path(cfg.paths.pretrained_model_dir)"
   ]
  },
  {
   "cell_type": "code",
   "execution_count": null,
   "id": "76e12306",
   "metadata": {},
   "outputs": [],
   "source": [
    "if len(list(DATA_DIR.iterdir())) == 0:\n",
    "    from roboflow import Roboflow\n",
    "\n",
    "    rf = Roboflow()\n",
    "    project = rf.workspace(DATASET.workspace).project(DATASET.project)\n",
    "    version = project.version(DATASET.version)\n",
    "    dataset = version.download(model_format=DATASET.model)"
   ]
  },
  {
   "cell_type": "markdown",
   "id": "7744f015",
   "metadata": {},
   "source": [
    "## Paths Setup"
   ]
  },
  {
   "cell_type": "markdown",
   "id": "d086b365",
   "metadata": {},
   "source": [
    "## YOLO model import"
   ]
  },
  {
   "cell_type": "code",
   "execution_count": null,
   "id": "0b2c9fc1",
   "metadata": {},
   "outputs": [],
   "source": [
    "MODEL_NAME = f\"{PRETRAINED_MODEEL_DIR}/{cfg.models.model_name.lower()}.pt\"\n",
    "MODEL_NAME"
   ]
  },
  {
   "cell_type": "code",
   "execution_count": null,
   "id": "c78c7288",
   "metadata": {},
   "outputs": [],
   "source": [
    "from ultralytics import YOLO\n",
    "\n",
    "model = YOLO(MODEL_NAME)"
   ]
  },
  {
   "cell_type": "code",
   "execution_count": null,
   "id": "3044396f",
   "metadata": {},
   "outputs": [],
   "source": [
    "cfg.paths.results_dir, cfg.task_name"
   ]
  },
  {
   "cell_type": "code",
   "execution_count": null,
   "id": "e1bcf274",
   "metadata": {},
   "outputs": [],
   "source": [
    "results = model.train(\n",
    "    data=cfg.datasets.dataset_yaml,\n",
    "    **cfg.trainer.params,\n",
    "    **cfg.datasets.augmentations,\n",
    ")"
   ]
  },
  {
   "cell_type": "code",
   "execution_count": null,
   "id": "d72f0467",
   "metadata": {},
   "outputs": [],
   "source": [
    "results"
   ]
  },
  {
   "cell_type": "code",
   "execution_count": null,
   "id": "c6d76be0",
   "metadata": {},
   "outputs": [],
   "source": [
    "# YOLO11l summary (fused): 190 layers, 25,282,396 parameters, 0 gradients, 86.6 GFLOPs\n",
    "#                  Class     Images  Instances      Box(P          R      mAP50  mAP50-95): 100%|██████████| 5/5 [00:01<00:00,  3.12it/s]\n",
    "#                    all         49       1174      0.814       0.73      0.791      0.516\n",
    "#                   ball         45         45      0.701       0.26      0.341       0.14\n",
    "#             goalkeeper         38         39      0.791      0.846      0.917      0.615\n",
    "#                 player         49        973      0.932       0.95      0.981      0.731\n",
    "#                referee         49        117      0.831      0.863      0.926      0.579"
   ]
  },
  {
   "cell_type": "code",
   "execution_count": null,
   "id": "95529705",
   "metadata": {},
   "outputs": [],
   "source": [
    "# YOLOv12l summary (fused): 283 layers, 26,342,156 parameters, 0 gradients, 88.6 GFLOPs\n",
    "#                  Class     Images  Instances      Box(P          R      mAP50  mAP50-95): 100%|██████████| 5/5 [00:01<00:00,  2.92it/s]\n",
    "#                    all         49       1174       0.86       0.75       0.81      0.537\n",
    "#                   ball         45         45      0.783      0.333      0.415      0.154\n",
    "#             goalkeeper         38         39      0.837      0.872      0.908      0.622\n",
    "#                 player         49        973      0.964      0.928      0.985      0.755\n",
    "#                referee         49        117      0.856      0.865      0.932      0.616"
   ]
  },
  {
   "cell_type": "code",
   "execution_count": null,
   "id": "9454f665",
   "metadata": {},
   "outputs": [],
   "source": [
    "# model = YOLO('/workspaces/football-players-tracking-yolo/results/augumented-data-yolo12l/weights/best.pt')\n",
    "# results = model.train(data=cfg.datasets.dataset_yaml,\n",
    "#             **cfg.trainer.params,\n",
    "#             **cfg.datasets.augmentations,\n",
    "# )"
   ]
  }
 ],
 "metadata": {
  "kernelspec": {
   "display_name": "base",
   "language": "python",
   "name": "python3"
  },
  "language_info": {
   "codemirror_mode": {
    "name": "ipython",
    "version": 3
   },
   "file_extension": ".py",
   "mimetype": "text/x-python",
   "name": "python",
   "nbconvert_exporter": "python",
   "pygments_lexer": "ipython3",
   "version": "3.11.11"
  }
 },
 "nbformat": 4,
 "nbformat_minor": 5
}
